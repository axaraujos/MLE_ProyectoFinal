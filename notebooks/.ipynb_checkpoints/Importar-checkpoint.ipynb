{
 "cells": [
  {
   "cell_type": "code",
   "execution_count": null,
   "id": "7e0c4b50",
   "metadata": {},
   "outputs": [],
   "source": [
    "import sys\n",
    "sys.path.append('/MLE_ProyectoFinal/src')\n",
    "\n",
    "from src.preprocessing import preprocess_data, scale_data\n",
    "from src.model import train_model\n",
    "from src.prediction import make_predictions"
   ]
  },
  {
   "cell_type": "code",
   "execution_count": 20,
   "id": "d0d9c8f8",
   "metadata": {},
   "outputs": [],
   "source": [
    "data_path = \"C:/Users/Alexander/Documents/MLE_ProyectoFinal/data/processed/Data_cov_process.csv\""
   ]
  },
  {
   "cell_type": "code",
   "execution_count": null,
   "id": "463a8808",
   "metadata": {},
   "outputs": [],
   "source": [
    "df = preprocess_data(data_path)"
   ]
  },
  {
   "cell_type": "code",
   "execution_count": null,
   "id": "c9be0283",
   "metadata": {},
   "outputs": [],
   "source": [
    "X = df.drop(columns=['target'])\n",
    "y = df['target']"
   ]
  },
  {
   "cell_type": "code",
   "execution_count": null,
   "id": "2304f406",
   "metadata": {},
   "outputs": [],
   "source": [
    "X_scaled = scale_data(X)"
   ]
  },
  {
   "cell_type": "code",
   "execution_count": null,
   "id": "18d0b1af",
   "metadata": {},
   "outputs": [],
   "source": [
    "model = train_model(X_train, y_train)"
   ]
  },
  {
   "cell_type": "code",
   "execution_count": null,
   "id": "54aa101e",
   "metadata": {},
   "outputs": [],
   "source": [
    "predictions = make_predictions(model, X_test)"
   ]
  },
  {
   "cell_type": "code",
   "execution_count": null,
   "id": "715057e2",
   "metadata": {},
   "outputs": [],
   "source": []
  }
 ],
 "metadata": {
  "kernelspec": {
   "display_name": "Python 3 (ipykernel)",
   "language": "python",
   "name": "python3"
  },
  "language_info": {
   "codemirror_mode": {
    "name": "ipython",
    "version": 3
   },
   "file_extension": ".py",
   "mimetype": "text/x-python",
   "name": "python",
   "nbconvert_exporter": "python",
   "pygments_lexer": "ipython3",
   "version": "3.11.5"
  }
 },
 "nbformat": 4,
 "nbformat_minor": 5
}

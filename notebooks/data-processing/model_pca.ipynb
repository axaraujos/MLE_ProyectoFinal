{
 "cells": [
  {
   "cell_type": "code",
   "execution_count": 44,
   "id": "ad6c60ea",
   "metadata": {},
   "outputs": [],
   "source": [
    "import pandas as pd\n",
    "import os\n",
    "import numpy as np\n",
    "import pickle\n",
    "from sklearn.preprocessing import StandardScaler"
   ]
  },
  {
   "cell_type": "code",
   "execution_count": 45,
   "id": "d2dc9cf7",
   "metadata": {
    "scrolled": true
   },
   "outputs": [],
   "source": [
    "nuevo_pkl_filepath = r\"C:\\Users\\Alexander\\Documents\\MLE_ProyectoFinal\\models\\selectkbest_model.pkl\"\n",
    "loaded_model = ... \n",
    "with open(nuevo_pkl_filepath, 'wb') as f:\n",
    "    pickle.dump(loaded_model, f)"
   ]
  },
  {
   "cell_type": "code",
   "execution_count": 46,
   "id": "28692727",
   "metadata": {},
   "outputs": [],
   "source": [
    "mainpath = r\"C:\\Users\\Alexander\\Documents\\MLE_ProyectoFinal\\data\\processed\"\n",
    "filename = \"Data_cov_process.csv\" \n",
    "fullpath = os.path.join(mainpath, filename)\n",
    "new_data = pd.read_csv(fullpath, sep=\";\", encoding=\"ansi\")"
   ]
  },
  {
   "cell_type": "code",
   "execution_count": 47,
   "id": "b4e29b2c",
   "metadata": {},
   "outputs": [],
   "source": [
    "X_new = new_data.iloc[:, 3:16]\n",
    "X_new_std = StandardScaler().fit_transform(X_new)"
   ]
  },
  {
   "cell_type": "code",
   "execution_count": 48,
   "id": "b2d7d6a5",
   "metadata": {},
   "outputs": [],
   "source": [
    "scaler = StandardScaler()\n",
    "X_new_std = scaler.fit_transform(X_new)"
   ]
  },
  {
   "cell_type": "code",
   "execution_count": null,
   "id": "86bafe25",
   "metadata": {},
   "outputs": [],
   "source": [
    "predictions = loaded_model.predict(X_new_selected)"
   ]
  },
  {
   "cell_type": "markdown",
   "id": "fc828075",
   "metadata": {},
   "source": []
  }
 ],
 "metadata": {
  "kernelspec": {
   "display_name": "Python 3 (ipykernel)",
   "language": "python",
   "name": "python3"
  },
  "language_info": {
   "codemirror_mode": {
    "name": "ipython",
    "version": 3
   },
   "file_extension": ".py",
   "mimetype": "text/x-python",
   "name": "python",
   "nbconvert_exporter": "python",
   "pygments_lexer": "ipython3",
   "version": "3.11.5"
  }
 },
 "nbformat": 4,
 "nbformat_minor": 5
}
